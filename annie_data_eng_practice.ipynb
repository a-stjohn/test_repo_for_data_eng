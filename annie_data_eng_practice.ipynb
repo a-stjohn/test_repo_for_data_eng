{
 "cells": [
  {
   "cell_type": "markdown",
   "metadata": {},
   "source": [
    "# Data Engineering Practice Exam 1\n",
    "\n",
    "This notebook will serve as very basic practice for your data engineering class.\n",
    "I'm not in the actual class so some things may not be relavent and I'm certain\n",
    "it won't be exhaustive of all the topics covered, but I will do my best.\n",
    "\n",
    "There is a combination of Markdown cells and python cells. To edit the markdown\n",
    "cells, simply double click on the content.\n",
    "\n",
    "* The process to complete this review will be your git/Github practice.\n",
    "* Questions 1-8: Console (bash) related\n",
    "* Questions 9-11: python related"
   ]
  },
  {
   "cell_type": "markdown",
   "metadata": {},
   "source": [
    "## Question 1:\n",
    "\n",
    "What command(s) would you type into the console/Command Line Interface (CLI) to\n",
    "make a new directory (folder) called \"**i_love_data**\" in your home (~) directory?"
   ]
  },
  {
   "cell_type": "markdown",
   "metadata": {},
   "source": [
    "### Answer:\n",
    "\n"
   ]
  },
  {
   "cell_type": "markdown",
   "metadata": {},
   "source": [
    "# Question 2:\n",
    "\n",
    "What command(s) would you type into the console to *change* your *directory* to\n",
    "the newly created \"**i_love_data/\"**\" directory?"
   ]
  },
  {
   "cell_type": "markdown",
   "metadata": {},
   "source": [
    "### Answer:\n",
    "\n"
   ]
  },
  {
   "cell_type": "markdown",
   "metadata": {},
   "source": [
    "## Question 3:\n",
    "\n",
    "(Assuming you changed to the \"**i_love_data***\" directory) What command(s) would\n",
    "you type into the console to create a new text file called \"*my_name.txt*\"\n",
    "in your \"**i_love_data/**\" directory?"
   ]
  },
  {
   "cell_type": "markdown",
   "metadata": {},
   "source": [
    "### Answer:\n",
    "\n"
   ]
  },
  {
   "cell_type": "markdown",
   "metadata": {},
   "source": [
    "## Question 4:\n",
    "\n",
    "Using a built in console editor (of your choice), what command(s) would you type\n",
    "to edit the new file \"*my_name.txt*\"?"
   ]
  },
  {
   "cell_type": "markdown",
   "metadata": {},
   "source": [
    "### Answer:\n",
    "\n"
   ]
  },
  {
   "cell_type": "markdown",
   "metadata": {},
   "source": [
    "## Question 5:\n",
    "\n",
    "What command(s) would you type to *move* the \"*my_name.txt*\" file to your\n",
    "home (~) directory?"
   ]
  },
  {
   "cell_type": "markdown",
   "metadata": {},
   "source": [
    "### Answer:\n",
    "\n"
   ]
  },
  {
   "cell_type": "markdown",
   "metadata": {},
   "source": [
    "## Question 6:\n",
    "\n",
    "What commmand(s) would you type to instead *copy* the \"*my_name.txt*\"\n",
    "file to your home (~) directory?"
   ]
  },
  {
   "cell_type": "markdown",
   "metadata": {},
   "source": [
    "### Answer:\n",
    "\n"
   ]
  },
  {
   "cell_type": "markdown",
   "metadata": {},
   "source": [
    "## Question 7:\n",
    "\n",
    "What command(s) would you type to *remove* the \"**i_love_data/**\" directory AND\n",
    "all of its contents?"
   ]
  },
  {
   "cell_type": "markdown",
   "metadata": {},
   "source": [
    "### Answer:\n",
    "\n"
   ]
  },
  {
   "cell_type": "markdown",
   "metadata": {},
   "source": [
    "## Question 8:\n",
    "\n",
    "What command(s) would you type to list the contents of a directory in long\n",
    "format including hidden files (e.g. . (dot) files)"
   ]
  },
  {
   "cell_type": "markdown",
   "metadata": {},
   "source": [
    "### Answer:\n",
    "\n"
   ]
  },
  {
   "cell_type": "markdown",
   "metadata": {},
   "source": [
    "## Question 9:\n",
    "\n",
    "Describe what it means for an object to be **mutable**. Also, describe why mutability\n",
    "can be a good thing to have and why it can also be bad.\n",
    "\n",
    "Do the same thing but for an **immutable** object."
   ]
  },
  {
   "cell_type": "markdown",
   "metadata": {},
   "source": [
    "### Answer:\n",
    "\n"
   ]
  },
  {
   "cell_type": "markdown",
   "metadata": {},
   "source": [
    "## Question 10:\n",
    "\n",
    "Give an example of a **mutable** object and an **immutable** object in python\n",
    "and indicate which is **mutable** and which is **immutable**."
   ]
  },
  {
   "cell_type": "markdown",
   "metadata": {},
   "source": [
    "### Answer:\n",
    "\n"
   ]
  },
  {
   "cell_type": "markdown",
   "metadata": {},
   "source": [
    "# Question 11:\n",
    "**NOTE: When I say the second element, I mean the element with index 1**\n",
    "\n",
    "**NOTE: When I say element two, I mean the element with index 2**\n",
    "\n",
    "Consider the python chunk below and answer the questions:\n",
    "\n",
    "* 11a: Given the python list `lst`, slice the list so that the first 3 elements\n",
    "are printed to the screen\n",
    "\n",
    "* 11b: Slice `lst` so that the second element from the end is printed to the\n",
    "screen. Use a negative index reference.\n",
    "\n",
    "* 11c: Slice `lst` so that the fourth through the tenth element is printed to\n",
    "the screen\n",
    "\n",
    "* 11d: Slice `lst` so that other element is printed to the screen.\n",
    "(e.g. every 2nd element is printed)\n",
    "\n",
    "* 11e: *append* to `lst` the values 69, 420, 80085 and print the new list to the\n",
    "screen. Do not use the `append()` method."
   ]
  },
  {
   "cell_type": "code",
   "execution_count": 22,
   "metadata": {},
   "outputs": [
    {
     "name": "stdout",
     "output_type": "stream",
     "text": [
      "[34, 25, 73, 34, 92, 97, 66, 56, 12, 84, 94, 94, 86, 24, 42, 86, 4, 45, 73, 37]\n",
      "[34, 25, 73, 34, 92, 97, 66, 56, 12, 84, 94, 94, 86, 24, 42, 86, 4, 45, 73, 37, 69, 420, 80085]\n"
     ]
    }
   ],
   "source": [
    "import numpy as np\n",
    "\n",
    "# random number generator to use; seed set for reproducibility\n",
    "rng = np.random.default_rng(seed=4206942069)\n",
    "\n",
    "# python list to use in the questions\n",
    "lst = rng.integers(low=1, high=100, size=20).tolist()\n",
    "print(lst)\n",
    "\n",
    "# answer 11a\n",
    "\n",
    "\n",
    "# answer 11b\n",
    "\n",
    "\n",
    "# answer 11c\n",
    "\n",
    "\n",
    "# answer 11d\n",
    "\n",
    "\n",
    "# answer 11e"
   ]
  }
 ],
 "metadata": {
  "kernelspec": {
   "display_name": "annie_help",
   "language": "python",
   "name": "python3"
  },
  "language_info": {
   "codemirror_mode": {
    "name": "ipython",
    "version": 3
   },
   "file_extension": ".py",
   "mimetype": "text/x-python",
   "name": "python",
   "nbconvert_exporter": "python",
   "pygments_lexer": "ipython3",
   "version": "3.10.0"
  },
  "orig_nbformat": 4
 },
 "nbformat": 4,
 "nbformat_minor": 2
}
